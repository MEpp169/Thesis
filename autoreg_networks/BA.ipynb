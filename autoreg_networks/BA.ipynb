{
 "cells": [
  {
   "cell_type": "markdown",
   "metadata": {},
   "source": [
    "We want to look at the evolution of probabilities after quantum gates have acted upon them. The corresponding formula for them is:"
   ]
  },
  {
   "cell_type": "code",
   "execution_count": 1,
   "metadata": {},
   "outputs": [],
   "source": [
    "from IPython.display import Image\n",
    "#Image(\"Probabilistic_operators.png\")"
   ]
  },
  {
   "cell_type": "markdown",
   "metadata": {},
   "source": [
    "Now let us find an expression for the overlap matrix $O_{\\textbf{a'',a'}}$. We shall begin in the tetrahedral POVM (this serves as a specific input), but the following code, including all Operators etc., will be such that it is modular and can be adapted for other POVM basis choices."
   ]
  },
  {
   "cell_type": "code",
   "execution_count": 2,
   "metadata": {},
   "outputs": [],
   "source": [
    "## import necessary packages ##\n",
    "\n",
    "import numpy.linalg as lin\n",
    "import numpy as np\n"
   ]
  },
  {
   "cell_type": "code",
   "execution_count": 3,
   "metadata": {},
   "outputs": [
    {
     "name": "stdout",
     "output_type": "stream",
     "text": [
      "(3, 2, 2)\n"
     ]
    }
   ],
   "source": [
    "## Define the fundamental 2x2 matrices ##\n",
    "\n",
    "sig_x = np.array([ [0, 1], \n",
    "                   [1, 0] ])\n",
    "\n",
    "sig_y = np.array([ [0, -1j],\n",
    "                   [1j, 0] ])\n",
    "\n",
    "sig_z = np.array([ [1,0],\n",
    "                   [0,-1] ])\n",
    "\n",
    "Id_2x2 = np.array([ [1, 0], \n",
    "                       [0, 1] ])\n",
    "\n",
    "pauli_mats = np.array([sig_x, sig_y, sig_z])\n",
    "\n",
    "print(np.shape(pauli_mats))"
   ]
  },
  {
   "cell_type": "code",
   "execution_count": 4,
   "metadata": {},
   "outputs": [],
   "source": [
    "## define an arbitrary POVM measurement (bloch representation)\n",
    "\n",
    "def construct_POVM(a, b, n):\n",
    "    # a, b are scalars corresponding to normalization, n is projection vector (normalized)\n",
    "    \n",
    "    return( a * Id_2x2 + b * np.einsum(\"i,ijk->jk\", n, pauli_mats) )"
   ]
  },
  {
   "cell_type": "code",
   "execution_count": 5,
   "metadata": {},
   "outputs": [],
   "source": [
    "## Define Rotation Matrix for arbitrary axis\n",
    " \n",
    "def rotation_matrix(axis, theta):\n",
    "    \"\"\"\n",
    "    Return the rotation matrix associated with counterclockwise rotation about\n",
    "    the given axis by theta radians.\n",
    "    \"\"\"\n",
    "    axis = np.asarray(axis)\n",
    "    axis = axis / np.sqrt(np.dot(axis, axis)) #normalize\n",
    "    a = np.cos(theta / 2.0)\n",
    "    b, c, d = -axis * np.sin(theta / 2.0)\n",
    "    aa, bb, cc, dd = a * a, b * b, c * c, d * d\n",
    "    bc, ad, ac, ab, bd, cd = b * c, a * d, a * c, a * b, b * d, c * d\n",
    "    return np.array([[aa + bb - cc - dd, 2 * (bc + ad), 2 * (bd - ac)],\n",
    "                     [2 * (bc - ad), aa + cc - bb - dd, 2 * (cd + ab)],\n",
    "                     [2 * (bd + ac), 2 * (cd - ab), aa + dd - bb - cc]])"
   ]
  },
  {
   "cell_type": "code",
   "execution_count": 6,
   "metadata": {},
   "outputs": [],
   "source": [
    "## Two POVM symmetry angles (Theta: x, Phi:z)\n",
    "\n",
    "def rotation_matrix_ThetPhi(theta, phi):\n",
    "    return rotation_matrix([1, 0, 0], theta) @ rotation_matrix([0, 0, 1], phi)\n"
   ]
  },
  {
   "cell_type": "code",
   "execution_count": 7,
   "metadata": {},
   "outputs": [
    {
     "name": "stdout",
     "output_type": "stream",
     "text": [
      "-5.551115123125783e-17\n",
      "-5.551115123125783e-17\n",
      "1.1102230246251565e-16\n"
     ]
    }
   ],
   "source": [
    "## specify tetrahedral POVM\n",
    "\n",
    "# apply rotations here (theta, phi)\n",
    "n_1 = np.array([0, 0, 1]).T\n",
    "n_2 = np.array([2*np.sqrt(2)/3, 0, -1/3]).T\n",
    "n_3 = np.array([-np.sqrt(2)/3, np.sqrt(2/3), -1/3]).T\n",
    "n_4 = np.array([-np.sqrt(2)/3, -np.sqrt(2/3), -1/3]).T\n",
    "\n",
    "n_tetra = np.array([n_1, n_2, n_3, n_4])\n",
    "\n",
    "n_tetra_rot = [rotation_matrix_ThetPhi(0.03, 0.02) @ n for n in n_tetra]\n",
    "\n",
    "for i in range(3):\n",
    "    # check if all vectors were rotated properly\n",
    "    print(np.abs(np.dot(n_tetra_rot[i], n_tetra_rot[i + 1])) - np.abs(np.dot(n_tetra[i], n_tetra[i + 1])))\n",
    "    \n",
    "    \n",
    "## Construct two POVMs\n",
    "\n",
    "# Original POVM\n",
    "POVM_tetra = [construct_POVM(1/4, 1/4, n_vec) for n_vec in n_tetra]\n",
    "\n",
    "# Rotatet POVM for strictly non-zero entries\n",
    "POVM_tetra_rot = [construct_POVM(1/4, 1/4, n_vec) for n_vec in n_tetra_rot]\n"
   ]
  },
  {
   "cell_type": "markdown",
   "metadata": {},
   "source": [
    "The deviation of the magnitude of the overlap between two POVM elements is = 0. (Visually) check if they still span a tetrahedron by plotting the vectors:"
   ]
  },
  {
   "cell_type": "code",
   "execution_count": 8,
   "metadata": {},
   "outputs": [],
   "source": [
    "%%capture\n",
    "%matplotlib notebook\n",
    "\n",
    "import matplotlib.pyplot as plt\n",
    "from mpl_toolkits.mplot3d import Axes3D\n",
    "\n",
    "import numpy as np\n",
    "from numpy import *\n",
    "from matplotlib import pyplot as plt\n",
    "from mpl_toolkits.mplot3d import Axes3D\n",
    "from matplotlib.patches import FancyArrowPatch\n",
    "from mpl_toolkits.mplot3d import proj3d\n",
    "\n",
    "class Arrow3D(FancyArrowPatch):\n",
    "    def __init__(self, xs, ys, zs, *args, **kwargs):\n",
    "        FancyArrowPatch.__init__(self, (0,0), (0,0), *args, **kwargs)\n",
    "        self._verts3d = xs, ys, zs\n",
    "\n",
    "    def draw(self, renderer):\n",
    "        xs3d, ys3d, zs3d = self._verts3d\n",
    "        xs, ys, zs = proj3d.proj_transform(xs3d, ys3d, zs3d, renderer.M)\n",
    "        self.set_positions((xs[0],ys[0]),(xs[1],ys[1]))\n",
    "        FancyArrowPatch.draw(self, renderer)\n",
    "        \n",
    "        \n",
    "fig = plt.figure(figsize=(10, 10))\n",
    "ax = fig.add_subplot(111, projection='3d')\n",
    "\n",
    "for i in range(4):\n",
    "    a = Arrow3D([0, n_tetra[i][0]], [0, n_tetra[i][1]], \n",
    "                [0, n_tetra[i][2]], mutation_scale=20, \n",
    "                lw=3, arrowstyle=\"-|>\", color=\"r\")\n",
    "    b = Arrow3D([0, n_tetra_rot[i][0]], [0, n_tetra_rot[i][1]], \n",
    "                [0, n_tetra_rot[i][2]], mutation_scale=20, \n",
    "                lw=3, arrowstyle=\"-|>\", color=\"b\")\n",
    "    ax.add_artist(a)\n",
    "    ax.add_artist(b)\n",
    "\n",
    "ax.set_xlabel('x_values')\n",
    "ax.set_ylabel('y_values')\n",
    "ax.set_zlabel('z_values')\n",
    "\n",
    "ax.set_xlim(-1, 1)\n",
    "ax.set_ylim(-1, 1)\n",
    "ax.set_zlim(-1, 1)\n",
    "\n",
    "plt.title('POVM Tetrahedron before and after Rotation')\n",
    "\n",
    "plt.draw()\n",
    "plt.show()\n"
   ]
  },
  {
   "cell_type": "code",
   "execution_count": 9,
   "metadata": {},
   "outputs": [],
   "source": [
    "## build many-body POVM measurements\n",
    "\n",
    "def many_body_POVM(outcomes, POVM):\n",
    "    # takes a vector of POVM outcomes and constructs the corresponding \n",
    "    # many-body measurement\n",
    "    \n",
    "    mb_operator = POVM[outcomes[0] - 1]\n",
    "    \n",
    "    for outcome in outcomes[1: ]:\n",
    "        mb_operator = np.kron(mb_operator, POVM[outcome - 1])\n",
    "        \n",
    "    return(mb_operator)"
   ]
  },
  {
   "cell_type": "markdown",
   "metadata": {},
   "source": [
    "The overlap matrix between POVM measurement operators for $\\textbf{a'}$ and $\\textbf{a''}$ is given by:"
   ]
  },
  {
   "cell_type": "code",
   "execution_count": 10,
   "metadata": {},
   "outputs": [
    {
     "ename": "FileNotFoundError",
     "evalue": "No such file or directory: 'overlap.png'",
     "output_type": "error",
     "traceback": [
      "\u001b[0;31m---------------------------------------------------------------------------\u001b[0m",
      "\u001b[0;31mTypeError\u001b[0m                                 Traceback (most recent call last)",
      "\u001b[0;32m~/anaconda3/lib/python3.8/site-packages/IPython/core/display.py\u001b[0m in \u001b[0;36m_data_and_metadata\u001b[0;34m(self, always_both)\u001b[0m\n\u001b[1;32m   1292\u001b[0m         \u001b[0;32mtry\u001b[0m\u001b[0;34m:\u001b[0m\u001b[0;34m\u001b[0m\u001b[0;34m\u001b[0m\u001b[0m\n\u001b[0;32m-> 1293\u001b[0;31m             \u001b[0mb64_data\u001b[0m \u001b[0;34m=\u001b[0m \u001b[0mb2a_base64\u001b[0m\u001b[0;34m(\u001b[0m\u001b[0mself\u001b[0m\u001b[0;34m.\u001b[0m\u001b[0mdata\u001b[0m\u001b[0;34m)\u001b[0m\u001b[0;34m.\u001b[0m\u001b[0mdecode\u001b[0m\u001b[0;34m(\u001b[0m\u001b[0;34m'ascii'\u001b[0m\u001b[0;34m)\u001b[0m\u001b[0;34m\u001b[0m\u001b[0;34m\u001b[0m\u001b[0m\n\u001b[0m\u001b[1;32m   1294\u001b[0m         \u001b[0;32mexcept\u001b[0m \u001b[0mTypeError\u001b[0m\u001b[0;34m:\u001b[0m\u001b[0;34m\u001b[0m\u001b[0;34m\u001b[0m\u001b[0m\n",
      "\u001b[0;31mTypeError\u001b[0m: a bytes-like object is required, not 'str'",
      "\nDuring handling of the above exception, another exception occurred:\n",
      "\u001b[0;31mFileNotFoundError\u001b[0m                         Traceback (most recent call last)",
      "\u001b[0;32m~/anaconda3/lib/python3.8/site-packages/IPython/core/formatters.py\u001b[0m in \u001b[0;36m__call__\u001b[0;34m(self, obj, include, exclude)\u001b[0m\n\u001b[1;32m    968\u001b[0m \u001b[0;34m\u001b[0m\u001b[0m\n\u001b[1;32m    969\u001b[0m             \u001b[0;32mif\u001b[0m \u001b[0mmethod\u001b[0m \u001b[0;32mis\u001b[0m \u001b[0;32mnot\u001b[0m \u001b[0;32mNone\u001b[0m\u001b[0;34m:\u001b[0m\u001b[0;34m\u001b[0m\u001b[0;34m\u001b[0m\u001b[0m\n\u001b[0;32m--> 970\u001b[0;31m                 \u001b[0;32mreturn\u001b[0m \u001b[0mmethod\u001b[0m\u001b[0;34m(\u001b[0m\u001b[0minclude\u001b[0m\u001b[0;34m=\u001b[0m\u001b[0minclude\u001b[0m\u001b[0;34m,\u001b[0m \u001b[0mexclude\u001b[0m\u001b[0;34m=\u001b[0m\u001b[0mexclude\u001b[0m\u001b[0;34m)\u001b[0m\u001b[0;34m\u001b[0m\u001b[0;34m\u001b[0m\u001b[0m\n\u001b[0m\u001b[1;32m    971\u001b[0m             \u001b[0;32mreturn\u001b[0m \u001b[0;32mNone\u001b[0m\u001b[0;34m\u001b[0m\u001b[0;34m\u001b[0m\u001b[0m\n\u001b[1;32m    972\u001b[0m         \u001b[0;32melse\u001b[0m\u001b[0;34m:\u001b[0m\u001b[0;34m\u001b[0m\u001b[0;34m\u001b[0m\u001b[0m\n",
      "\u001b[0;32m~/anaconda3/lib/python3.8/site-packages/IPython/core/display.py\u001b[0m in \u001b[0;36m_repr_mimebundle_\u001b[0;34m(self, include, exclude)\u001b[0m\n\u001b[1;32m   1281\u001b[0m         \u001b[0;32mif\u001b[0m \u001b[0mself\u001b[0m\u001b[0;34m.\u001b[0m\u001b[0membed\u001b[0m\u001b[0;34m:\u001b[0m\u001b[0;34m\u001b[0m\u001b[0;34m\u001b[0m\u001b[0m\n\u001b[1;32m   1282\u001b[0m             \u001b[0mmimetype\u001b[0m \u001b[0;34m=\u001b[0m \u001b[0mself\u001b[0m\u001b[0;34m.\u001b[0m\u001b[0m_mimetype\u001b[0m\u001b[0;34m\u001b[0m\u001b[0;34m\u001b[0m\u001b[0m\n\u001b[0;32m-> 1283\u001b[0;31m             \u001b[0mdata\u001b[0m\u001b[0;34m,\u001b[0m \u001b[0mmetadata\u001b[0m \u001b[0;34m=\u001b[0m \u001b[0mself\u001b[0m\u001b[0;34m.\u001b[0m\u001b[0m_data_and_metadata\u001b[0m\u001b[0;34m(\u001b[0m\u001b[0malways_both\u001b[0m\u001b[0;34m=\u001b[0m\u001b[0;32mTrue\u001b[0m\u001b[0;34m)\u001b[0m\u001b[0;34m\u001b[0m\u001b[0;34m\u001b[0m\u001b[0m\n\u001b[0m\u001b[1;32m   1284\u001b[0m             \u001b[0;32mif\u001b[0m \u001b[0mmetadata\u001b[0m\u001b[0;34m:\u001b[0m\u001b[0;34m\u001b[0m\u001b[0;34m\u001b[0m\u001b[0m\n\u001b[1;32m   1285\u001b[0m                 \u001b[0mmetadata\u001b[0m \u001b[0;34m=\u001b[0m \u001b[0;34m{\u001b[0m\u001b[0mmimetype\u001b[0m\u001b[0;34m:\u001b[0m \u001b[0mmetadata\u001b[0m\u001b[0;34m}\u001b[0m\u001b[0;34m\u001b[0m\u001b[0;34m\u001b[0m\u001b[0m\n",
      "\u001b[0;32m~/anaconda3/lib/python3.8/site-packages/IPython/core/display.py\u001b[0m in \u001b[0;36m_data_and_metadata\u001b[0;34m(self, always_both)\u001b[0m\n\u001b[1;32m   1293\u001b[0m             \u001b[0mb64_data\u001b[0m \u001b[0;34m=\u001b[0m \u001b[0mb2a_base64\u001b[0m\u001b[0;34m(\u001b[0m\u001b[0mself\u001b[0m\u001b[0;34m.\u001b[0m\u001b[0mdata\u001b[0m\u001b[0;34m)\u001b[0m\u001b[0;34m.\u001b[0m\u001b[0mdecode\u001b[0m\u001b[0;34m(\u001b[0m\u001b[0;34m'ascii'\u001b[0m\u001b[0;34m)\u001b[0m\u001b[0;34m\u001b[0m\u001b[0;34m\u001b[0m\u001b[0m\n\u001b[1;32m   1294\u001b[0m         \u001b[0;32mexcept\u001b[0m \u001b[0mTypeError\u001b[0m\u001b[0;34m:\u001b[0m\u001b[0;34m\u001b[0m\u001b[0;34m\u001b[0m\u001b[0m\n\u001b[0;32m-> 1295\u001b[0;31m             raise FileNotFoundError(\n\u001b[0m\u001b[1;32m   1296\u001b[0m                 \"No such file or directory: '%s'\" % (self.data))\n\u001b[1;32m   1297\u001b[0m         \u001b[0mmd\u001b[0m \u001b[0;34m=\u001b[0m \u001b[0;34m{\u001b[0m\u001b[0;34m}\u001b[0m\u001b[0;34m\u001b[0m\u001b[0;34m\u001b[0m\u001b[0m\n",
      "\u001b[0;31mFileNotFoundError\u001b[0m: No such file or directory: 'overlap.png'"
     ]
    },
    {
     "ename": "FileNotFoundError",
     "evalue": "No such file or directory: 'overlap.png'",
     "output_type": "error",
     "traceback": [
      "\u001b[0;31m---------------------------------------------------------------------------\u001b[0m",
      "\u001b[0;31mTypeError\u001b[0m                                 Traceback (most recent call last)",
      "\u001b[0;32m~/anaconda3/lib/python3.8/site-packages/IPython/core/display.py\u001b[0m in \u001b[0;36m_data_and_metadata\u001b[0;34m(self, always_both)\u001b[0m\n\u001b[1;32m   1292\u001b[0m         \u001b[0;32mtry\u001b[0m\u001b[0;34m:\u001b[0m\u001b[0;34m\u001b[0m\u001b[0;34m\u001b[0m\u001b[0m\n\u001b[0;32m-> 1293\u001b[0;31m             \u001b[0mb64_data\u001b[0m \u001b[0;34m=\u001b[0m \u001b[0mb2a_base64\u001b[0m\u001b[0;34m(\u001b[0m\u001b[0mself\u001b[0m\u001b[0;34m.\u001b[0m\u001b[0mdata\u001b[0m\u001b[0;34m)\u001b[0m\u001b[0;34m.\u001b[0m\u001b[0mdecode\u001b[0m\u001b[0;34m(\u001b[0m\u001b[0;34m'ascii'\u001b[0m\u001b[0;34m)\u001b[0m\u001b[0;34m\u001b[0m\u001b[0;34m\u001b[0m\u001b[0m\n\u001b[0m\u001b[1;32m   1294\u001b[0m         \u001b[0;32mexcept\u001b[0m \u001b[0mTypeError\u001b[0m\u001b[0;34m:\u001b[0m\u001b[0;34m\u001b[0m\u001b[0;34m\u001b[0m\u001b[0m\n",
      "\u001b[0;31mTypeError\u001b[0m: a bytes-like object is required, not 'str'",
      "\nDuring handling of the above exception, another exception occurred:\n",
      "\u001b[0;31mFileNotFoundError\u001b[0m                         Traceback (most recent call last)",
      "\u001b[0;32m~/anaconda3/lib/python3.8/site-packages/IPython/core/formatters.py\u001b[0m in \u001b[0;36m__call__\u001b[0;34m(self, obj)\u001b[0m\n\u001b[1;32m    343\u001b[0m             \u001b[0mmethod\u001b[0m \u001b[0;34m=\u001b[0m \u001b[0mget_real_method\u001b[0m\u001b[0;34m(\u001b[0m\u001b[0mobj\u001b[0m\u001b[0;34m,\u001b[0m \u001b[0mself\u001b[0m\u001b[0;34m.\u001b[0m\u001b[0mprint_method\u001b[0m\u001b[0;34m)\u001b[0m\u001b[0;34m\u001b[0m\u001b[0;34m\u001b[0m\u001b[0m\n\u001b[1;32m    344\u001b[0m             \u001b[0;32mif\u001b[0m \u001b[0mmethod\u001b[0m \u001b[0;32mis\u001b[0m \u001b[0;32mnot\u001b[0m \u001b[0;32mNone\u001b[0m\u001b[0;34m:\u001b[0m\u001b[0;34m\u001b[0m\u001b[0;34m\u001b[0m\u001b[0m\n\u001b[0;32m--> 345\u001b[0;31m                 \u001b[0;32mreturn\u001b[0m \u001b[0mmethod\u001b[0m\u001b[0;34m(\u001b[0m\u001b[0;34m)\u001b[0m\u001b[0;34m\u001b[0m\u001b[0;34m\u001b[0m\u001b[0m\n\u001b[0m\u001b[1;32m    346\u001b[0m             \u001b[0;32mreturn\u001b[0m \u001b[0;32mNone\u001b[0m\u001b[0;34m\u001b[0m\u001b[0;34m\u001b[0m\u001b[0m\n\u001b[1;32m    347\u001b[0m         \u001b[0;32melse\u001b[0m\u001b[0;34m:\u001b[0m\u001b[0;34m\u001b[0m\u001b[0;34m\u001b[0m\u001b[0m\n",
      "\u001b[0;32m~/anaconda3/lib/python3.8/site-packages/IPython/core/display.py\u001b[0m in \u001b[0;36m_repr_png_\u001b[0;34m(self)\u001b[0m\n\u001b[1;32m   1311\u001b[0m     \u001b[0;32mdef\u001b[0m \u001b[0m_repr_png_\u001b[0m\u001b[0;34m(\u001b[0m\u001b[0mself\u001b[0m\u001b[0;34m)\u001b[0m\u001b[0;34m:\u001b[0m\u001b[0;34m\u001b[0m\u001b[0;34m\u001b[0m\u001b[0m\n\u001b[1;32m   1312\u001b[0m         \u001b[0;32mif\u001b[0m \u001b[0mself\u001b[0m\u001b[0;34m.\u001b[0m\u001b[0membed\u001b[0m \u001b[0;32mand\u001b[0m \u001b[0mself\u001b[0m\u001b[0;34m.\u001b[0m\u001b[0mformat\u001b[0m \u001b[0;34m==\u001b[0m \u001b[0mself\u001b[0m\u001b[0;34m.\u001b[0m\u001b[0m_FMT_PNG\u001b[0m\u001b[0;34m:\u001b[0m\u001b[0;34m\u001b[0m\u001b[0;34m\u001b[0m\u001b[0m\n\u001b[0;32m-> 1313\u001b[0;31m             \u001b[0;32mreturn\u001b[0m \u001b[0mself\u001b[0m\u001b[0;34m.\u001b[0m\u001b[0m_data_and_metadata\u001b[0m\u001b[0;34m(\u001b[0m\u001b[0;34m)\u001b[0m\u001b[0;34m\u001b[0m\u001b[0;34m\u001b[0m\u001b[0m\n\u001b[0m\u001b[1;32m   1314\u001b[0m \u001b[0;34m\u001b[0m\u001b[0m\n\u001b[1;32m   1315\u001b[0m     \u001b[0;32mdef\u001b[0m \u001b[0m_repr_jpeg_\u001b[0m\u001b[0;34m(\u001b[0m\u001b[0mself\u001b[0m\u001b[0;34m)\u001b[0m\u001b[0;34m:\u001b[0m\u001b[0;34m\u001b[0m\u001b[0;34m\u001b[0m\u001b[0m\n",
      "\u001b[0;32m~/anaconda3/lib/python3.8/site-packages/IPython/core/display.py\u001b[0m in \u001b[0;36m_data_and_metadata\u001b[0;34m(self, always_both)\u001b[0m\n\u001b[1;32m   1293\u001b[0m             \u001b[0mb64_data\u001b[0m \u001b[0;34m=\u001b[0m \u001b[0mb2a_base64\u001b[0m\u001b[0;34m(\u001b[0m\u001b[0mself\u001b[0m\u001b[0;34m.\u001b[0m\u001b[0mdata\u001b[0m\u001b[0;34m)\u001b[0m\u001b[0;34m.\u001b[0m\u001b[0mdecode\u001b[0m\u001b[0;34m(\u001b[0m\u001b[0;34m'ascii'\u001b[0m\u001b[0;34m)\u001b[0m\u001b[0;34m\u001b[0m\u001b[0;34m\u001b[0m\u001b[0m\n\u001b[1;32m   1294\u001b[0m         \u001b[0;32mexcept\u001b[0m \u001b[0mTypeError\u001b[0m\u001b[0;34m:\u001b[0m\u001b[0;34m\u001b[0m\u001b[0;34m\u001b[0m\u001b[0m\n\u001b[0;32m-> 1295\u001b[0;31m             raise FileNotFoundError(\n\u001b[0m\u001b[1;32m   1296\u001b[0m                 \"No such file or directory: '%s'\" % (self.data))\n\u001b[1;32m   1297\u001b[0m         \u001b[0mmd\u001b[0m \u001b[0;34m=\u001b[0m \u001b[0;34m{\u001b[0m\u001b[0;34m}\u001b[0m\u001b[0;34m\u001b[0m\u001b[0;34m\u001b[0m\u001b[0m\n",
      "\u001b[0;31mFileNotFoundError\u001b[0m: No such file or directory: 'overlap.png'"
     ]
    },
    {
     "data": {
      "text/plain": [
       "<IPython.core.display.Image object>"
      ]
     },
     "execution_count": 10,
     "metadata": {},
     "output_type": "execute_result"
    }
   ],
   "source": [
    "Image(\"overlap.png\")"
   ]
  },
  {
   "cell_type": "code",
   "execution_count": 11,
   "metadata": {},
   "outputs": [],
   "source": [
    "## construct the overlap matrix"
   ]
  },
  {
   "cell_type": "code",
   "execution_count": 35,
   "metadata": {},
   "outputs": [
    {
     "name": "stdout",
     "output_type": "stream",
     "text": [
      "Stored 'measurements_test' (list)\n"
     ]
    }
   ],
   "source": [
    "## first construct all possible POVM measurements\n",
    "\n",
    "n_qubits = 2\n",
    "\n",
    "n_measurements = 4**n_qubits\n",
    "\n",
    "from itertools import product\n",
    "\n",
    "measurements_test = list(product([1, 2, 3, 4], repeat=n_qubits))\n",
    "%store measurements_test"
   ]
  },
  {
   "cell_type": "code",
   "execution_count": 13,
   "metadata": {},
   "outputs": [],
   "source": [
    "def outcome_to_ID(outcome, measurements):\n",
    "    # assign each measurement outcome a unique index based\n",
    "    # on the outcome generating function\n",
    "    return measurements.index(outcome)\n",
    "\n",
    "def ID_to_outcome(ID, measurements):\n",
    "    # get the measurement outcome based on its ID value\n",
    "    return measurements[ID]"
   ]
  },
  {
   "cell_type": "code",
   "execution_count": 14,
   "metadata": {},
   "outputs": [],
   "source": [
    "def overlap(n_measurements, measurements, POVM_choice):\n",
    "    # POVM_choice: string specifying which POVM to use\n",
    "    if POVM_choice == \"Tetra\":\n",
    "        POVM = POVM_tetra\n",
    "        \n",
    "    elif POVM_choice == \"Tetra_rot\":\n",
    "        POVM = POVM_tetra_rot\n",
    "        \n",
    "    overlap_matrix = np.zeros((n_measurements, n_measurements), dtype=np.complex_)\n",
    "\n",
    "    for i in range(n_measurements):\n",
    "\n",
    "        for j in range(n_measurements):\n",
    "\n",
    "            M_i = many_body_POVM(ID_to_outcome(i, measurements), POVM)\n",
    "            M_j = many_body_POVM(ID_to_outcome(j, measurements), POVM)\n",
    "\n",
    "            overlap_matrix[i, j] = np.trace(M_i @ M_j)\n",
    "            \n",
    "    return(overlap_matrix)"
   ]
  },
  {
   "cell_type": "code",
   "execution_count": 15,
   "metadata": {},
   "outputs": [],
   "source": [
    "overlap_tetra = overlap(n_measurements, measurements, \"Tetra\")\n",
    "overlap_tetra_rot = overlap(n_measurements, measurements, \"Tetra_rot\")"
   ]
  },
  {
   "cell_type": "markdown",
   "metadata": {},
   "source": [
    "Now we simply need to find the matrix inverse:"
   ]
  },
  {
   "cell_type": "code",
   "execution_count": 16,
   "metadata": {},
   "outputs": [],
   "source": [
    "overlap_tetra_inv = np.linalg.inv(overlap_tetra)\n",
    "overlap_tetra_rot_inv = np.linalg.inv(overlap_tetra_rot)"
   ]
  },
  {
   "cell_type": "code",
   "execution_count": 17,
   "metadata": {},
   "outputs": [
    {
     "name": "stdout",
     "output_type": "stream",
     "text": [
      "[[0.25      +0.j 0.08333333+0.j 0.08333333+0.j 0.08333333+0.j]\n",
      " [0.08333333+0.j 0.25      +0.j 0.08333333+0.j 0.08333333+0.j]\n",
      " [0.08333333+0.j 0.08333333+0.j 0.25      +0.j 0.08333333+0.j]\n",
      " [0.08333333+0.j 0.08333333+0.j 0.08333333+0.j 0.25      +0.j]]\n"
     ]
    }
   ],
   "source": [
    "print(overlap_tetra_rot)"
   ]
  },
  {
   "cell_type": "markdown",
   "metadata": {},
   "source": [
    "This agrees with the result obtained in the paper of Carrasquila (https://arxiv.org/pdf/1810.10584.pdf)."
   ]
  },
  {
   "cell_type": "code",
   "execution_count": 18,
   "metadata": {},
   "outputs": [
    {
     "data": {
      "text/plain": [
       "array([[ 1.00000000e+00+0.j, -1.43403807e-16+0.j, -3.23815049e-17+0.j,\n",
       "        -5.55111512e-17+0.j],\n",
       "       [ 4.16333634e-17+0.j,  1.00000000e+00+0.j,  1.38777878e-17+0.j,\n",
       "         2.77555756e-17+0.j],\n",
       "       [-1.85037171e-17+0.j,  3.70074342e-17+0.j,  1.00000000e+00+0.j,\n",
       "        -5.55111512e-17+0.j],\n",
       "       [-2.77555756e-17+0.j,  5.55111512e-17+0.j,  1.38777878e-17+0.j,\n",
       "         1.00000000e+00+0.j]])"
      ]
     },
     "execution_count": 18,
     "metadata": {},
     "output_type": "execute_result"
    }
   ],
   "source": [
    "overlap_tetra_inv @ overlap_tetra"
   ]
  },
  {
   "cell_type": "markdown",
   "metadata": {},
   "source": [
    "Indeed the overlap matrix could be inverted."
   ]
  },
  {
   "cell_type": "markdown",
   "metadata": {},
   "source": [
    "Now we still need to implement the quantum gates:"
   ]
  },
  {
   "cell_type": "code",
   "execution_count": 19,
   "metadata": {},
   "outputs": [],
   "source": [
    "# definition of 1-qubit quantum gates\n",
    "\n",
    "ID = np.array([[1, 0],    # Identity Gate\n",
    "               [0, 1]])\n",
    "\n",
    "X = sig_x    #Pauli-X\n",
    "\n",
    "Y = sig_y    #Pauli-Y\n",
    "\n",
    "Z = sig_z    #Pauli-Z\n",
    "\n",
    "H = 1/np.sqrt(2) * np.array([[1, 1],    #Hadamard\n",
    "                             [1, -1]])    \n",
    "\n",
    "S = np.array([[1, 0],    #Phase\n",
    "              [0, 1j]])\n",
    "\n",
    "Pi8 = np.array([[1, 0],    #Pi/8\n",
    "                [0, np.exp(1j*np.pi/4)]])"
   ]
  },
  {
   "cell_type": "markdown",
   "metadata": {},
   "source": [
    "We need a method of generalising these 1-qubit states to act on one specific qubit from a setup of multiple ones"
   ]
  },
  {
   "cell_type": "code",
   "execution_count": 20,
   "metadata": {},
   "outputs": [],
   "source": [
    "import scipy.sparse as sparse\n",
    "\n",
    "def buildSparseGateSingle(n, i, gate):\n",
    "    sgate = sparse.csr_matrix(gate)\n",
    "    return sparse.kron(sparse.kron(sparse.identity(2**i), sgate), sparse.identity(2**(n-i-1)))\n",
    "\n",
    "def buildGateSingle(n_qubits, i, gate):\n",
    "    single_qubit_gates = [ID]*i + [gate] + [ID]*(n_qubits-i-1) \n",
    "    \n",
    "    total_gate = single_qubit_gates[0]\n",
    "    \n",
    "    for gate in single_qubit_gates[1:] :\n",
    "        total_gate = np.kron(total_gate, gate)\n",
    "\n",
    "    return(total_gate)"
   ]
  },
  {
   "cell_type": "code",
   "execution_count": 21,
   "metadata": {},
   "outputs": [],
   "source": [
    "def dagger(operator):\n",
    "    return operator.conj().T"
   ]
  },
  {
   "cell_type": "markdown",
   "metadata": {},
   "source": [
    "Now we finally have all the tools needed for the construction of the operator matrix in the POVM formalism"
   ]
  },
  {
   "cell_type": "code",
   "execution_count": 22,
   "metadata": {},
   "outputs": [],
   "source": [
    "def prob_operator(n_qubits, POVM_type, n_outcomes, gate, gate_index):\n",
    "    \n",
    "    n_mb_outcomes = n_outcomes**n_qubits\n",
    "    measurements = list(product([1, 2, 3, 4], repeat=n_qubits))\n",
    "\n",
    "    \n",
    "    if POVM_type == \"Tetra\":\n",
    "        POVM = POVM_tetra\n",
    "        \n",
    "    elif POVM_type == \"Tetra_rot\":\n",
    "        POVM = POVM_tetra_rot\n",
    "\n",
    "    overlap_mat = overlap(n_mb_outcomes, measurements, POVM_type)\n",
    "    overlap_inv = np.linalg.inv(overlap_mat)\n",
    "        \n",
    "    mb_gate = buildGateSingle(n_qubits, gate_index, gate)\n",
    "    \n",
    "    O_mat = np.zeros((n_mb_outcomes, n_mb_outcomes), dtype=np.complex_)\n",
    "    \n",
    "    for i in range(n_mb_outcomes):\n",
    "        for j in range(n_mb_outcomes):\n",
    "            for k in range(n_mb_outcomes):\n",
    "                O_mat[i][j] += np.trace(mb_gate @ many_body_POVM(ID_to_outcome(k, measurements), POVM) \n",
    "                                        @ dagger(mb_gate) @ many_body_POVM(ID_to_outcome(i, measurements), POVM)) * overlap_inv[k][j] \n",
    "                \n",
    "    \n",
    "    return(O_mat)"
   ]
  },
  {
   "cell_type": "code",
   "execution_count": 23,
   "metadata": {},
   "outputs": [],
   "source": [
    "def round_zero(array):\n",
    "    eps = 1.0e-10\n",
    "    array[np.abs(array) < eps] = 0\n",
    "    \n",
    "    return(array)"
   ]
  },
  {
   "cell_type": "markdown",
   "metadata": {},
   "source": [
    "# Test of Update Rules\n",
    "\n",
    "## Plan\n",
    "\n",
    "done:\n",
    "* worked out update rules for simple 2-qubit system\n",
    "* implemented 1-qubit gates in code\n",
    "* introduce density matrix formalism to code\n",
    "* introduce function: swap density matrix <--> POVM formalism\n",
    "* formulate density matrix for simple product state\n",
    "* calculate rho & P \n",
    "    * before 1-qubit-gate\n",
    "    * after 1-qubit-gate\n",
    "* calculate P' using the mapping P' = O @ P --> check if mapping is correct\n",
    "\n",
    "\n",
    "to-do:\n",
    "* implement simple ANN (autoregressive) to obtain the P-distribution\n",
    "* train the network for simple input state\n",
    "* apply gate to network and check if the parameter update gives correct P'\n",
    "    * for product state\n",
    "    * for entangled state (W != 0)"
   ]
  },
  {
   "cell_type": "markdown",
   "metadata": {},
   "source": [
    "1. Density matrix for pure state"
   ]
  },
  {
   "cell_type": "code",
   "execution_count": 24,
   "metadata": {},
   "outputs": [],
   "source": [
    "def init_density_mat(states, n_qubits):\n",
    "    \"\"\" Code for product states and entangled states.\n",
    "    states is list of tuples (probability, state)\n",
    "    \n",
    "    If product state:\n",
    "        state is list of np.arrays corresponding to subsystem states. (!This is prduct state property!)\n",
    "    Elif entangled state:\n",
    "        state is already a 2^n_qubits - dimensional vector corresponding to the state vector of the entangled system\"\"\"\n",
    "    \n",
    "    rho = np.zeros((2**n_qubits, 2**n_qubits), dtype=np.complex_)\n",
    "    \n",
    "    for state in states:\n",
    "        p = state[0]\n",
    "        state_info = state[1]\n",
    "         \n",
    "        if len(state_info) != 1: #product state\n",
    "            mb_state = state_info[0]\n",
    "\n",
    "            for vec in state_info[1: ]:\n",
    "                mb_state = np.kron(mb_state, vec)\n",
    "                \n",
    "        elif len(state_info) == 1: #entangled state\n",
    "            mb_state = state_info[0]\n",
    "        \n",
    "            \n",
    "        rho += p * mb_state @ np.conjugate(mb_state).T\n",
    "        \n",
    "    return(rho)"
   ]
  },
  {
   "cell_type": "code",
   "execution_count": 25,
   "metadata": {},
   "outputs": [],
   "source": [
    "def all_mb_POVM_ops(n_qubits, POVM_type):\n",
    "    # n_qubits: number of qubits in the system\n",
    "    # POVM_type (string): name of POVM\n",
    "    \n",
    "    measurements = list(product([1, 2, 3, 4], repeat=n_qubits))\n",
    "\n",
    "    if POVM_type == \"Tetra\":\n",
    "        POVM = POVM_tetra\n",
    "        \n",
    "    elif POVM_type == \"Tetra_rot\":\n",
    "        POVM = POVM_tetra_rot\n",
    "    \n",
    "    all_mb_ops = []\n",
    "    \n",
    "    for outcome in measurements:\n",
    "        all_mb_ops.append(many_body_POVM(outcome, POVM))\n",
    "        \n",
    "    return(all_mb_ops)\n",
    "    "
   ]
  },
  {
   "cell_type": "code",
   "execution_count": 26,
   "metadata": {},
   "outputs": [],
   "source": [
    "def rho_to_POVM_distr(rho, n_qubits, POVM_type, n_outcomes):\n",
    "    # takes a density matrix and returns the corresponding POVM measurement distribution\n",
    "    \n",
    "    # rho: The density matrix of the system of interest\n",
    "    # n_qubits: The number of qubits in our system\n",
    "    # POVM_type (string): name of the POVM\n",
    "    # n_outcomes: the number of operators in the POVM_type array\n",
    "    \n",
    "    POVM_ops = all_mb_POVM_ops(n_qubits, POVM_type) #all POVM operators = n_outcomes**n_qubits\n",
    "    \n",
    "    P = np.zeros((n_outcomes**n_qubits, 1), dtype=np.complex_)\n",
    "    \n",
    "    for i in range(len(P)):\n",
    "        P[i] = np.trace(rho @ POVM_ops[i])\n",
    "    \n",
    "    return(P)\n",
    "    "
   ]
  },
  {
   "cell_type": "code",
   "execution_count": 27,
   "metadata": {},
   "outputs": [],
   "source": [
    "def POVM_distr_to_rho(POVM_distr, n_qubits, POVM_type, n_outcomes):\n",
    "    # takes a POVM probability distribution and maps it to a density matrix\n",
    "    \n",
    "    #POVM_distr: an n_outcomes**n_qubits dimensional vector with Probability for each outcome\n",
    "    #n_qubits: number of qubits in our system\n",
    "    #POVM_type (string): specifies which POVM we use\n",
    "    #n_outcomes: nr of different POVM_outcomes (depends on POVM_type)\n",
    "    \n",
    "    POVM_ops = all_mb_POVM_ops(n_qubits, POVM_type) #all POVM operators = n_outcomes**n_qubits\n",
    "    \n",
    "    measurements = list(product([1, 2, 3, 4], repeat=n_qubits))\n",
    "    %store measurements\n",
    "        \n",
    "\n",
    "    T_inv = np.linalg.inv(overlap(n_outcomes**n_qubits, measurements, POVM_type))\n",
    "    \n",
    "    rho_b = T_inv @ POVM_distr\n",
    "    #rho = np.einsum(\"ijk,i->jk\",POVM_ops, rho_b)\n",
    "    rho = np.moveaxis(POVM_ops, 0, -1) @ rho_b\n",
    "    \n",
    "    return(np.reshape(rho, (n_outcomes, n_outcomes)))"
   ]
  },
  {
   "cell_type": "markdown",
   "metadata": {},
   "source": [
    "We can conclude that all of this works fine, just as expected!"
   ]
  },
  {
   "cell_type": "markdown",
   "metadata": {},
   "source": [
    "Now we will formulate a simple 2-qubit (product state) test setting for our quantum circuit."
   ]
  },
  {
   "cell_type": "code",
   "execution_count": 28,
   "metadata": {},
   "outputs": [
    {
     "name": "stdout",
     "output_type": "stream",
     "text": [
      "Stored 'P_init_pm' (ndarray)\n",
      "Stored 'P_init_pimi' (ndarray)\n",
      "Stored 'P_init_umi' (ndarray)\n",
      "Stored 'P_init_dp' (ndarray)\n",
      "Stored 'P_op_X' (ndarray)\n",
      "Stored 'P_op_Y' (ndarray)\n",
      "Stored 'P_op_Z' (ndarray)\n",
      "Stored 'P_op_H' (ndarray)\n"
     ]
    }
   ],
   "source": [
    "up = np.array([[1, 0]]).T\n",
    "down = np.array([[0, 1]]).T\n",
    "\n",
    "plus = 1/np.sqrt(2) * np.array([[1, 1]]).T\n",
    "minus = 1/np.sqrt(2) * np.array([[1, -1]]).T\n",
    "\n",
    "plus_i = 1/np.sqrt(2) * np.array([[1, 1.0j]]).T\n",
    "minus_i = 1/np.sqrt(2) * np.array([[1, -1.0j]]).T\n",
    "\n",
    "## Density matrix and outcome distribution before gate\n",
    "\n",
    "# generate several for update biases testing with more complicated product states\n",
    "\n",
    "# (plus,minus)\n",
    "rho_init_pm = init_density_mat([(1, [plus, minus])], 2)                            \n",
    "P_init_pm = rho_to_POVM_distr(rho_init_pm, 2, \"Tetra_rot\", 4)\n",
    "%store P_init_pm\n",
    "\n",
    "# (plus_i,minus_i)\n",
    "rho_init_pimi = init_density_mat([(1, [plus_i, minus_i])], 2)                            \n",
    "P_init_pimi = rho_to_POVM_distr(rho_init_pimi, 2, \"Tetra_rot\", 4)\n",
    "%store P_init_pimi\n",
    "\n",
    "# (up, minus_i)\n",
    "rho_init_umi = init_density_mat([(1, [up, minus_i])], 2)                            \n",
    "P_init_umi = rho_to_POVM_distr(rho_init_umi, 2, \"Tetra_rot\", 4)\n",
    "%store P_init_umi\n",
    "\n",
    "# (down, plus)\n",
    "rho_init_dp = init_density_mat([(1, [down, plus])], 2)                            \n",
    "P_init_dp = rho_to_POVM_distr(rho_init_dp, 2, \"Tetra_rot\", 4)\n",
    "%store P_init_dp\n",
    "\n",
    "\n",
    "\n",
    "## Density matrix and outcome distribution after gate\n",
    "\n",
    "\n",
    "# as a gate let us choose a simple Pauli-Z gate\n",
    "\n",
    "gate = Z\n",
    "mb_gate = buildGateSingle(2, 1, Z) # construct the gate for the many-qubit circuit\n",
    "\n",
    "#rho_prime = mb_gate @ rho_init @ np.transpose(mb_gate.conjugate())\n",
    "#P_prime = prob_operator(2, \"Tetra_rot\", 4, gate, 1) @ P_init\n",
    "\n",
    "#check if we correctly derived the operator\n",
    "\n",
    "#rho_prime_check = POVM_distr_to_rho(P_prime, 2, \"Tetra_rot\", 4)\n",
    "\n",
    "AG = prob_operator(2, \"Tetra_rot\", 4, gate, 1)\n",
    "\n",
    "P_op_X = prob_operator(2, \"Tetra_rot\", 4, X, 1)\n",
    "P_op_Y = prob_operator(2, \"Tetra_rot\", 4, Y, 1)\n",
    "P_op_Z = prob_operator(2, \"Tetra_rot\", 4, Z, 1)\n",
    "\n",
    "P_op_H = prob_operator(2, \"Tetra_rot\", 4, H, 1)\n",
    "\n",
    "P_op_phase = prob_operator(2, \"Tetra_rot\", 4, S, 1)\n",
    "## save for comparison\n",
    "\n",
    "#%store P_prime\n",
    "#%store P_init\n",
    "%store P_op_X \n",
    "%store P_op_Y \n",
    "%store P_op_Z \n",
    "%store P_op_H "
   ]
  },
  {
   "cell_type": "code",
   "execution_count": 31,
   "metadata": {},
   "outputs": [],
   "source": [
    "np.savetxt(\"pm_initial_POVM_distro.csv\", np.real(P_init_pm), delimiter=\",\") #save initial POVM distribution"
   ]
  },
  {
   "cell_type": "code",
   "execution_count": 36,
   "metadata": {},
   "outputs": [
    {
     "name": "stdout",
     "output_type": "stream",
     "text": [
      "Stored 'P_prime_pm' (ndarray)\n"
     ]
    }
   ],
   "source": [
    "P_prime_pm = P_op_H @ P_init_pm\n",
    "%store P_prime_pm\n",
    "np.savetxt(\"pm_afterH1_POVM_distro.csv\", np.real(P_prime_pm), delimiter=\",\") #save initial POVM distribution"
   ]
  },
  {
   "cell_type": "code",
   "execution_count": 30,
   "metadata": {},
   "outputs": [],
   "source": [
    "def get_positive_negative(array):\n",
    "    a, b = np.shape(array)[0], np.shape(array)[1]\n",
    "    \n",
    "    new_array = np.zeros((a, b))\n",
    "    \n",
    "    for i in range(a):\n",
    "        for j in range(b):\n",
    "            if array[i, j] > 0 and np.abs(array[i, j]) >= 1.0e-4:\n",
    "                new_array[i, j] = 1\n",
    "            elif array[i, j] < 0 and np.abs(array[i, j]) >= 1.0e-4:\n",
    "                new_array[i, j] = -1\n",
    "    return(new_array)"
   ]
  },
  {
   "cell_type": "code",
   "execution_count": 31,
   "metadata": {},
   "outputs": [
    {
     "data": {
      "text/plain": [
       "array([[ 1.,  1.,  1., -1.,  0.,  0.,  0.,  0.,  0.,  0.,  0.,  0.,  0.,\n",
       "         0.,  0.,  0.],\n",
       "       [ 1., -1.,  1.,  1.,  0.,  0.,  0.,  0.,  0.,  0.,  0.,  0.,  0.,\n",
       "         0.,  0.,  0.],\n",
       "       [ 1.,  1., -1.,  1.,  0.,  0.,  0.,  0.,  0.,  0.,  0.,  0.,  0.,\n",
       "         0.,  0.,  0.],\n",
       "       [-1.,  1.,  1., -1.,  0.,  0.,  0.,  0.,  0.,  0.,  0.,  0.,  0.,\n",
       "         0.,  0.,  0.],\n",
       "       [ 0.,  0.,  0.,  0.,  1.,  1.,  1., -1.,  0.,  0.,  0.,  0.,  0.,\n",
       "         0.,  0.,  0.],\n",
       "       [ 0.,  0.,  0.,  0.,  1., -1.,  1.,  1.,  0.,  0.,  0.,  0.,  0.,\n",
       "         0.,  0.,  0.],\n",
       "       [ 0.,  0.,  0.,  0.,  1.,  1., -1.,  1.,  0.,  0.,  0.,  0.,  0.,\n",
       "         0.,  0.,  0.],\n",
       "       [ 0.,  0.,  0.,  0., -1.,  1.,  1., -1.,  0.,  0.,  0.,  0.,  0.,\n",
       "         0.,  0.,  0.],\n",
       "       [ 0.,  0.,  0.,  0.,  0.,  0.,  0.,  0.,  1.,  1.,  1., -1.,  0.,\n",
       "         0.,  0.,  0.],\n",
       "       [ 0.,  0.,  0.,  0.,  0.,  0.,  0.,  0.,  1., -1.,  1.,  1.,  0.,\n",
       "         0.,  0.,  0.],\n",
       "       [ 0.,  0.,  0.,  0.,  0.,  0.,  0.,  0.,  1.,  1., -1.,  1.,  0.,\n",
       "         0.,  0.,  0.],\n",
       "       [ 0.,  0.,  0.,  0.,  0.,  0.,  0.,  0., -1.,  1.,  1., -1.,  0.,\n",
       "         0.,  0.,  0.],\n",
       "       [ 0.,  0.,  0.,  0.,  0.,  0.,  0.,  0.,  0.,  0.,  0.,  0.,  1.,\n",
       "         1.,  1., -1.],\n",
       "       [ 0.,  0.,  0.,  0.,  0.,  0.,  0.,  0.,  0.,  0.,  0.,  0.,  1.,\n",
       "        -1.,  1.,  1.],\n",
       "       [ 0.,  0.,  0.,  0.,  0.,  0.,  0.,  0.,  0.,  0.,  0.,  0.,  1.,\n",
       "         1., -1.,  1.],\n",
       "       [ 0.,  0.,  0.,  0.,  0.,  0.,  0.,  0.,  0.,  0.,  0.,  0., -1.,\n",
       "         1.,  1., -1.]])"
      ]
     },
     "execution_count": 31,
     "metadata": {},
     "output_type": "execute_result"
    }
   ],
   "source": [
    "get_positive_negative(P_op_Z)"
   ]
  },
  {
   "cell_type": "markdown",
   "metadata": {},
   "source": [
    "Now we will also formulate product states:"
   ]
  },
  {
   "cell_type": "code",
   "execution_count": 32,
   "metadata": {},
   "outputs": [
    {
     "name": "stdout",
     "output_type": "stream",
     "text": [
      "[[1.]\n",
      " [0.]\n",
      " [0.]\n",
      " [1.]]\n",
      "[[1. 0. 0. 1.]]\n",
      "Stored 'P_init_GHZ' (ndarray)\n"
     ]
    },
    {
     "data": {
      "text/plain": [
       "array([[0.12488753+0.j],\n",
       "       [0.04177482+0.j],\n",
       "       [0.04472824+0.j],\n",
       "       [0.03860941+0.j],\n",
       "       [0.04177482+0.j],\n",
       "       [0.124896  +0.j],\n",
       "       [0.03872253+0.j],\n",
       "       [0.04460665+0.j],\n",
       "       [0.04472824+0.j],\n",
       "       [0.03872253+0.j],\n",
       "       [0.04165755+0.j],\n",
       "       [0.12489168+0.j],\n",
       "       [0.03860941+0.j],\n",
       "       [0.04460665+0.j],\n",
       "       [0.12489168+0.j],\n",
       "       [0.04189225+0.j]])"
      ]
     },
     "execution_count": 32,
     "metadata": {},
     "output_type": "execute_result"
    }
   ],
   "source": [
    "def GHZ(n_qubits):\n",
    "    state = np.zeros((2**n_qubits,1))\n",
    "    state[0] = 1\n",
    "    state[-1] = 1\n",
    "    print(state)\n",
    "    print(state.T)\n",
    "    return(1/np.sqrt(2)*state)\n",
    "\n",
    "def Bell():\n",
    "    return(GHZ(2))\n",
    "\n",
    "GHZ = GHZ(2)\n",
    "\n",
    "rho_init_GHZ = init_density_mat([(1, [GHZ])], 2)                            \n",
    "\n",
    "P_init_GHZ =  rho_to_POVM_distr(rho_init_GHZ, 2, \"Tetra_rot\", 4)\n",
    "%store P_init_GHZ\n",
    "\n",
    "P_init_GHZ"
   ]
  },
  {
   "cell_type": "code",
   "execution_count": 33,
   "metadata": {},
   "outputs": [
    {
     "data": {
      "text/plain": [
       "(0.9999999999999998+0j)"
      ]
     },
     "execution_count": 33,
     "metadata": {},
     "output_type": "execute_result"
    }
   ],
   "source": [
    "np.sum(P_init_GHZ)"
   ]
  },
  {
   "cell_type": "code",
   "execution_count": 34,
   "metadata": {},
   "outputs": [
    {
     "ename": "NameError",
     "evalue": "name 'P_init' is not defined",
     "output_type": "error",
     "traceback": [
      "\u001b[0;31m---------------------------------------------------------------------------\u001b[0m",
      "\u001b[0;31mNameError\u001b[0m                                 Traceback (most recent call last)",
      "\u001b[0;32m<ipython-input-34-13ff618792ab>\u001b[0m in \u001b[0;36m<module>\u001b[0;34m\u001b[0m\n\u001b[0;32m----> 1\u001b[0;31m \u001b[0mnp\u001b[0m\u001b[0;34m.\u001b[0m\u001b[0msum\u001b[0m\u001b[0;34m(\u001b[0m\u001b[0mprob_operator\u001b[0m\u001b[0;34m(\u001b[0m\u001b[0;36m2\u001b[0m\u001b[0;34m,\u001b[0m \u001b[0;34m\"Tetra\"\u001b[0m\u001b[0;34m,\u001b[0m \u001b[0;36m4\u001b[0m\u001b[0;34m,\u001b[0m \u001b[0mgate\u001b[0m\u001b[0;34m,\u001b[0m \u001b[0;36m1\u001b[0m\u001b[0;34m)\u001b[0m \u001b[0;34m@\u001b[0m \u001b[0mP_init\u001b[0m\u001b[0;34m)\u001b[0m\u001b[0;34m\u001b[0m\u001b[0;34m\u001b[0m\u001b[0m\n\u001b[0m",
      "\u001b[0;31mNameError\u001b[0m: name 'P_init' is not defined"
     ]
    }
   ],
   "source": [
    "np.sum(prob_operator(2, \"Tetra\", 4, gate, 1) @ P_init)"
   ]
  },
  {
   "cell_type": "code",
   "execution_count": null,
   "metadata": {},
   "outputs": [],
   "source": [
    "%store AG\n",
    "np.pi"
   ]
  },
  {
   "cell_type": "markdown",
   "metadata": {},
   "source": [
    "Code could be faster if we actually started with all-complex numbers (also probabilities) in the first place and therefore without type-errors (i.e. complex+real). This works reasonably well now. Check for bigger operators"
   ]
  },
  {
   "cell_type": "markdown",
   "metadata": {},
   "source": [
    "# Now look at the 2-qubit gates:"
   ]
  },
  {
   "cell_type": "markdown",
   "metadata": {},
   "source": [
    "First encode the gates in the conventional way in the vector formalism:"
   ]
  },
  {
   "cell_type": "code",
   "execution_count": 35,
   "metadata": {},
   "outputs": [],
   "source": [
    "CNOT = np.array([[0, 1, 0, 0],\n",
    "                 [1, 0, 0, 0],\n",
    "                 [0, 0, 1, 0],\n",
    "                 [0, 0, 0, 1]])\n",
    "\n",
    "SWAP = np.array([[1, 0, 0, 0],\n",
    "                 [0, 0, 1, 0], \n",
    "                 [0, 1, 0, 0], \n",
    "                 [0, 0, 0, 1]])\n",
    "\n",
    "phase = np.pi\n",
    "\n",
    "CPHASE = np.array([[1, 0, 0, 0],\n",
    "                   [0, 1, 0, 0],\n",
    "                   [0, 0, 1, 0],\n",
    "                   [0, 0, 0, np.exp(1.0j*phase)]])"
   ]
  },
  {
   "cell_type": "markdown",
   "metadata": {},
   "source": [
    "Translate the gates to the POVM formalism:"
   ]
  },
  {
   "cell_type": "code",
   "execution_count": 36,
   "metadata": {},
   "outputs": [],
   "source": [
    "def prob_operator_2qubits(n_qubits, POVM_type, n_outcomes, gate):\n",
    "    \n",
    "    n_mb_outcomes = n_outcomes**n_qubits\n",
    "    measurements = list(product([1, 2, 3, 4], repeat=n_qubits))\n",
    "\n",
    "    \n",
    "    if POVM_type == \"Tetra\":\n",
    "        POVM = POVM_tetra\n",
    "        \n",
    "    elif POVM_type == \"Tetra_rot\":\n",
    "        POVM = POVM_tetra_rot\n",
    "\n",
    "    overlap_mat = overlap(n_mb_outcomes, measurements, POVM_type)\n",
    "    overlap_inv = np.linalg.inv(overlap_mat)\n",
    "        \n",
    "    mb_gate = gate\n",
    "    \n",
    "    O_mat = np.zeros((n_mb_outcomes, n_mb_outcomes), dtype=np.complex_)\n",
    "    \n",
    "    for i in range(n_mb_outcomes):\n",
    "        for j in range(n_mb_outcomes):\n",
    "            for k in range(n_mb_outcomes):\n",
    "                O_mat[i][j] += np.trace(mb_gate @ many_body_POVM(ID_to_outcome(k, measurements), POVM) \n",
    "                                        @ dagger(mb_gate) @ many_body_POVM(ID_to_outcome(i, measurements), POVM)) * overlap_inv[k][j] \n",
    "    \n",
    "    return(O_mat)"
   ]
  },
  {
   "cell_type": "code",
   "execution_count": 37,
   "metadata": {},
   "outputs": [],
   "source": [
    "P_op_CNOT = prob_operator_2qubits(2, \"Tetra_rot\", 4, CNOT)\n",
    "P_op_CPHASE =  prob_operator_2qubits(2, \"Tetra_rot\", 4, CPHASE)"
   ]
  },
  {
   "cell_type": "code",
   "execution_count": 38,
   "metadata": {},
   "outputs": [],
   "source": [
    "%%capture\n",
    "P_op_CNOT"
   ]
  },
  {
   "cell_type": "markdown",
   "metadata": {},
   "source": [
    "Define a symmetric superposition state for 2 qubits:"
   ]
  },
  {
   "cell_type": "code",
   "execution_count": 39,
   "metadata": {},
   "outputs": [],
   "source": [
    "two_q_sym = 1/2 * np.array([[1, 1, 1, 1]]).T\n",
    "\n",
    "rho_init_two_q_sym = init_density_mat([(1, [two_q_sym])], 2)                            \n",
    "\n",
    "P_init_two_q_sym =  rho_to_POVM_distr(rho_init_two_q_sym, 2, \"Tetra_rot\", 4)"
   ]
  },
  {
   "cell_type": "markdown",
   "metadata": {},
   "source": [
    "Check if we have correctly implemented state + gate: \n",
    "\n",
    "1. determine density matrix rho_1 of state two_q_sym after the CPHASE gate\n",
    "2. apply this gate in  the POVM formalism translate the resulting distribution back to density matrix rho_2\n",
    "3. Check if rho_1 == rho_2\n",
    "\n"
   ]
  },
  {
   "cell_type": "code",
   "execution_count": 40,
   "metadata": {},
   "outputs": [],
   "source": [
    "rho1_prime_two_q_sym = CPHASE @ rho_init_two_q_sym @ dagger(CPHASE)"
   ]
  },
  {
   "cell_type": "code",
   "execution_count": 41,
   "metadata": {},
   "outputs": [
    {
     "name": "stdout",
     "output_type": "stream",
     "text": [
      "Stored 'measurements' (list)\n",
      "[[ 3.88578059e-16-6.40803699e-19j -1.11022302e-16+2.77555756e-17j\n",
      "   1.11022302e-16-8.32667268e-17j -1.66533454e-16-5.26505569e-17j]\n",
      " [-1.11022302e-16-2.77555756e-17j  2.22044605e-16-1.73736832e-17j\n",
      "   1.11022302e-16-8.48511729e-17j  0.00000000e+00+3.06161700e-17j]\n",
      " [ 2.22044605e-16+9.71445147e-17j  1.11022302e-16+2.61711296e-17j\n",
      "   0.00000000e+00-1.97390422e-17j -5.55111512e-17-1.35917284e-16j]\n",
      " [-1.11022302e-16+9.42839203e-17j  0.00000000e+00-2.86059436e-18j\n",
      "  -5.55111512e-17+8.04061325e-17j  5.55111512e-17+4.65616945e-17j]]\n"
     ]
    }
   ],
   "source": [
    "P_prime_two_q_sym = P_op_CPHASE @ P_init_two_q_sym\n",
    "rho2_prime_two_q_sym = POVM_distr_to_rho(P_prime_two_q_sym, 2, \"Tetra_rot\", 4)\n",
    "\n",
    "print(rho2_prime_two_q_sym - rho1_prime_two_q_sym)"
   ]
  },
  {
   "cell_type": "markdown",
   "metadata": {},
   "source": [
    "We see that also for two-qubit gates everything works! "
   ]
  },
  {
   "cell_type": "code",
   "execution_count": 42,
   "metadata": {},
   "outputs": [
    {
     "name": "stdout",
     "output_type": "stream",
     "text": [
      "Stored 'P_init_two_q_sym' (ndarray)\n",
      "Stored 'P_prime_two_q_sym' (ndarray)\n",
      "Stored 'P_op_CPHASE' (ndarray)\n"
     ]
    }
   ],
   "source": [
    "%store P_init_two_q_sym\n",
    "%store P_prime_two_q_sym\n",
    "%store P_op_CPHASE\n",
    "\n"
   ]
  },
  {
   "cell_type": "markdown",
   "metadata": {},
   "source": [
    "### Now work in the machine learning notebook to check the 2-qubit gate update rule."
   ]
  },
  {
   "cell_type": "code",
   "execution_count": 99,
   "metadata": {},
   "outputs": [
    {
     "data": {
      "text/plain": [
       "array([[ 9.99999848e-01+6.53054994e-19j,  1.40334203e-07-1.02766738e-18j,\n",
       "         8.11934799e-06+3.91884103e-19j, -8.41139778e-06-6.70533194e-19j,\n",
       "         1.40334203e-07-1.62656791e-18j,  4.49555681e-04+2.55757735e-19j,\n",
       "        -2.40283496e-04-1.99649652e-19j, -2.09120530e-04+1.59246334e-18j,\n",
       "         8.11934799e-06+3.32696972e-19j, -2.40283496e-04-7.08489878e-19j,\n",
       "        -2.09125973e-04-2.47397236e-19j,  4.49555741e-04+5.96223863e-19j,\n",
       "        -8.41139778e-06-4.46838531e-21j, -2.09120530e-04+9.53294268e-19j,\n",
       "         4.49555741e-04+4.40888336e-19j, -2.40277787e-04-7.52064814e-19j],\n",
       "       [ 4.49612106e-04-3.64620317e-18j,  9.99250721e-01-5.62617580e-18j,\n",
       "        -2.86024135e-04-2.69957270e-17j, -3.13555839e-04+4.62253356e-17j,\n",
       "        -8.82045545e-04-3.82255531e-18j,  7.14845981e-04-3.22449037e-18j,\n",
       "         1.27429371e-02+3.89405606e-17j, -1.17109835e-02-2.42100675e-17j,\n",
       "        -1.20105954e-02+3.70025678e-18j,  2.43348317e-02+6.28504240e-18j,\n",
       "        -5.93243344e-04-2.56733215e-17j,  1.27484258e-02+3.04942948e-18j,\n",
       "         1.24433208e-02+2.23433657e-18j, -2.46005367e-02+3.03743207e-19j,\n",
       "        -1.17164950e-02-6.95780013e-18j, -5.71214743e-04+3.83291312e-18j],\n",
       "       [ 4.49615694e-04-6.83741446e-18j, -2.93999561e-04+2.91309494e-17j,\n",
       "         9.99269229e-01-7.44013831e-18j, -3.08141358e-04-2.17453211e-18j,\n",
       "        -1.99580308e-04-2.86719481e-18j, -1.21795790e-02+6.66074501e-18j,\n",
       "         6.96950633e-04+2.40233540e-18j,  1.25316237e-02+4.41809229e-18j,\n",
       "        -1.24682866e-02+1.48673207e-17j,  1.25208185e-02-2.28349668e-17j,\n",
       "         2.38981501e-02-1.04775068e-17j,  9.45207526e-05-1.35342269e-17j,\n",
       "         1.22265168e-02-1.15262951e-18j,  9.99345677e-05-1.52905994e-17j,\n",
       "        -2.41695861e-02+2.36165388e-17j, -1.21681868e-02-5.49198287e-18j],\n",
       "       [ 4.49608260e-04+9.34302208e-18j, -3.05007953e-04-4.62181524e-17j,\n",
       "        -2.91618046e-04+1.12232956e-17j,  9.99230675e-01+8.19893073e-18j,\n",
       "        -2.15466108e-04+5.70002225e-19j,  1.23116119e-02-1.34509221e-17j,\n",
       "        -1.19491867e-02+1.22327433e-18j,  7.34234951e-04+1.10613912e-17j,\n",
       "        -1.22432851e-02+1.13945300e-18j,  8.40450534e-05+1.51921589e-17j,\n",
       "         1.23009829e-02-1.71237329e-17j,  2.48030592e-02-3.08778340e-18j,\n",
       "         1.20008890e-02-9.12333547e-18j, -1.19379772e-02+2.56640692e-17j,\n",
       "         8.96381083e-05+1.50693384e-17j, -2.50622031e-02-1.37743131e-17j],\n",
       "       [ 4.49612106e-04-7.62049630e-18j, -8.82045545e-04-7.33658452e-18j,\n",
       "        -1.20105954e-02+8.77841573e-18j,  1.24433208e-02+3.15859241e-18j,\n",
       "         9.99250721e-01-1.01807194e-17j,  7.14845981e-04-5.01886968e-18j,\n",
       "         2.43348317e-02+1.29339844e-17j, -2.46005367e-02-4.45287039e-19j,\n",
       "        -2.86024135e-04+1.22106182e-18j,  1.27429371e-02+3.41193107e-17j,\n",
       "        -5.93243344e-04-3.84164429e-17j, -1.17164950e-02-1.86505741e-17j,\n",
       "        -3.13555839e-04+3.56529761e-17j, -1.17109835e-02-8.25207553e-18j,\n",
       "         1.27484258e-02-6.52424706e-18j, -5.71214743e-04+1.29251515e-17j],\n",
       "       [-4.14906395e-04-1.01479965e-17j,  4.45008837e-01+1.77349771e-17j,\n",
       "        -2.30049395e-01-1.47038405e-17j, -2.13679782e-01+2.08472150e-17j,\n",
       "         4.45008837e-01+3.29044223e-17j, -3.32855148e-01-1.64427118e-18j,\n",
       "         7.66308105e-03-4.55966102e-17j, -8.70489187e-03-1.63909547e-17j,\n",
       "        -2.30049395e-01-3.53104762e-17j,  7.66308105e-03-2.21822628e-17j,\n",
       "         6.58495631e-01-1.07226162e-17j, -2.37849635e-04+6.97159569e-17j,\n",
       "        -2.13679782e-01+2.08455668e-17j, -8.70489187e-03-9.19753327e-18j,\n",
       "        -2.37849635e-04+6.43054612e-17j,  6.74774423e-01-6.25082700e-17j],\n",
       "       [-1.29004216e-02+1.68722432e-18j, -2.05111540e-01-1.42172735e-17j,\n",
       "         4.52567349e-01+4.47925701e-17j, -2.33705973e-01-1.71139588e-17j,\n",
       "         4.60745272e-01-1.49830367e-18j, -2.20469953e-04+1.11603496e-18j,\n",
       "        -3.24658877e-01+2.67923262e-17j, -8.98694414e-03+4.10645257e-17j,\n",
       "        -2.01692691e-01+4.23883090e-18j, -2.86934980e-02-2.58983011e-18j,\n",
       "        -7.37051353e-03-5.66254759e-17j,  6.65896679e-01-6.89837673e-18j,\n",
       "        -2.21672741e-01-5.36388552e-18j,  6.69896975e-01+9.12001095e-18j,\n",
       "        -2.45840119e-02-2.56900283e-17j,  2.04914051e-02-3.90871057e-17j],\n",
       "       [ 1.15687643e-02-1.11103037e-18j, -2.37718818e-01-1.41875592e-17j,\n",
       "        -2.09256941e-01-4.55159480e-18j,  4.36288189e-01+2.02055775e-17j,\n",
       "         4.28142872e-01-8.98198543e-18j, -2.55474811e-04+5.03668726e-17j,\n",
       "         7.34602393e-03-4.13553438e-17j, -3.41020376e-01+1.57677785e-17j,\n",
       "        -2.21688631e-01+1.31587550e-17j,  6.61743618e-01-3.10043752e-17j,\n",
       "        -2.02702068e-02+2.61656557e-17j,  2.43731285e-02-9.61885329e-18j,\n",
       "        -2.42467931e-01-5.16595960e-18j,  2.83825744e-02+6.87938983e-18j,\n",
       "         6.65876292e-01+3.88460991e-17j,  8.95691732e-03-5.15479704e-17j],\n",
       "       [ 4.49615694e-04-1.74767101e-18j, -1.99580308e-04-1.45259389e-18j,\n",
       "        -1.24682866e-02+1.24380671e-17j,  1.22265168e-02-6.29128054e-18j,\n",
       "        -2.93999561e-04+3.76490145e-18j, -1.21795790e-02+1.85784847e-18j,\n",
       "         1.25208185e-02-1.40737130e-17j,  9.99345677e-05+1.99331093e-19j,\n",
       "         9.99269229e-01-2.28501721e-18j,  6.96950633e-04+4.02866219e-18j,\n",
       "         2.38981501e-02-1.26571120e-17j, -2.41695861e-02+1.78292868e-17j,\n",
       "        -3.08141358e-04+3.40742434e-18j,  1.25316237e-02+1.99956301e-18j,\n",
       "         9.45207526e-05-1.22015535e-17j, -1.21681868e-02+9.73012470e-20j],\n",
       "       [-1.29004216e-02+6.37975975e-18j,  4.60745272e-01+1.04496893e-17j,\n",
       "        -2.01692691e-01+3.32995360e-18j, -2.21672741e-01-2.09145666e-17j,\n",
       "        -2.05111540e-01-1.81802843e-17j, -2.20469953e-04+1.72943678e-17j,\n",
       "        -2.86934980e-02-7.33767917e-18j,  6.69896975e-01-3.29133690e-18j,\n",
       "         4.52567349e-01+4.83785675e-17j, -3.24658877e-01+4.55404430e-17j,\n",
       "        -7.37051353e-03-7.64329724e-17j, -2.45840119e-02-4.21811539e-17j,\n",
       "        -2.33705973e-01-3.37299749e-17j, -8.98694414e-03-2.64427298e-17j,\n",
       "         6.65896679e-01+3.61687911e-17j,  2.04914051e-02+2.36852409e-17j],\n",
       "       [-2.42460631e-02-1.51732446e-17j, -2.14372537e-01+1.86727838e-17j,\n",
       "         4.67750562e-01-1.67463194e-19j, -2.05086759e-01+1.41325290e-17j,\n",
       "        -2.14372537e-01+2.12951783e-17j,  6.66227121e-01+6.34098102e-20j,\n",
       "        -1.53885003e-02+5.46605331e-18j, -8.32610721e-03-3.92486264e-17j,\n",
       "         4.67750562e-01+7.40070332e-18j, -1.53885003e-02+7.87588789e-18j,\n",
       "        -3.15795483e-01+3.07431984e-17j, -2.45766584e-02-3.28574708e-17j,\n",
       "        -2.05086759e-01+2.07213787e-18j, -8.32610721e-03-5.17376185e-17j,\n",
       "        -2.45766584e-02-1.83442644e-18j,  6.73814425e-01+2.94626396e-17j],\n",
       "       [-1.71787227e-05+8.85603451e-20j, -2.09473744e-01-2.06772602e-17j,\n",
       "        -2.18192821e-01+1.44148502e-17j,  4.52628545e-01-6.60207108e-18j,\n",
       "        -2.33938664e-01-1.45017159e-17j, -3.70934156e-04+4.66525847e-17j,\n",
       "         6.61822847e-01-2.83330174e-17j,  1.66446607e-02-1.32157428e-17j,\n",
       "         4.36294315e-01+2.91443775e-17j, -1.59905096e-02+1.74664222e-17j,\n",
       "        -7.96516929e-03-1.57339008e-18j, -3.33571694e-01-1.16311855e-17j,\n",
       "        -2.26349793e-01-1.59293173e-17j,  6.69966814e-01-3.42163065e-17j,\n",
       "         1.60043759e-04-3.71133946e-18j,  8.35328217e-03+7.27033679e-17j],\n",
       "       [ 4.49608260e-04+9.15086094e-18j, -2.15466108e-04+2.70565093e-18j,\n",
       "        -1.22432851e-02-5.51053279e-19j,  1.20008890e-02-9.22742391e-18j,\n",
       "        -3.05007953e-04-4.29981564e-17j,  1.23116119e-02-1.85515293e-17j,\n",
       "         8.40450534e-05+9.01381083e-18j, -1.19379772e-02+3.48485300e-17j,\n",
       "        -2.91618046e-04+7.53753707e-18j, -1.19491867e-02-6.11179115e-19j,\n",
       "         1.23009829e-02-4.21611407e-18j,  8.96381083e-05+4.67027541e-18j,\n",
       "         9.99230675e-01+8.70581279e-18j,  7.34234951e-04+1.09371786e-17j,\n",
       "         2.48030592e-02-4.79131991e-18j, -2.50622031e-02-1.23706286e-17j],\n",
       "       [ 1.15687643e-02+8.21838892e-19j,  4.28142872e-01-1.62209687e-17j,\n",
       "        -2.21688631e-01-8.46953436e-18j, -2.42467931e-01+1.32862330e-17j,\n",
       "        -2.37718818e-01-1.65995673e-18j, -2.55474811e-04+6.01932719e-18j,\n",
       "         6.61743618e-01-1.15876014e-17j,  2.83825744e-02+1.15290272e-17j,\n",
       "        -2.09256941e-01-1.38336849e-17j,  7.34602393e-03+2.22615514e-17j,\n",
       "        -2.02702068e-02+4.27620302e-18j,  6.65876292e-01-4.93751381e-18j,\n",
       "         4.36288189e-01+2.82687875e-17j, -3.41020376e-01+1.23822646e-17j,\n",
       "         2.43731285e-02-5.45945244e-18j,  8.95691732e-03-5.13848498e-17j],\n",
       "       [-1.71787227e-05-6.67497239e-18j, -2.33938664e-01-2.53164447e-18j,\n",
       "         4.36294315e-01+1.83426943e-17j, -2.26349793e-01+5.09707683e-18j,\n",
       "        -2.09473744e-01-1.25938901e-17j, -3.70934156e-04+5.15338242e-17j,\n",
       "        -1.59905096e-02-6.17237141e-18j,  6.69966814e-01-7.11879291e-18j,\n",
       "        -2.18192821e-01-2.93962760e-18j,  6.61822847e-01-1.91312862e-17j,\n",
       "        -7.96516929e-03+6.06099180e-18j,  1.60043759e-04-1.98807115e-17j,\n",
       "         4.52628545e-01+2.12257546e-17j,  1.66446607e-02-3.01553468e-17j,\n",
       "        -3.33571694e-01+1.31191629e-17j,  8.35328217e-03-4.12619091e-18j],\n",
       "       [ 2.46611214e-02+4.63372603e-19j, -2.30636441e-01+1.02127254e-17j,\n",
       "        -2.37709286e-01-3.88713989e-18j,  4.18774953e-01-8.43666892e-18j,\n",
       "        -2.30636441e-01+4.71558604e-19j,  6.66178471e-01-8.44899218e-17j,\n",
       "         7.96570272e-03-2.74237207e-17j,  1.72401196e-02+9.14167026e-17j,\n",
       "        -2.37709286e-01+6.95012953e-18j,  7.96570272e-03-4.49419389e-17j,\n",
       "         6.57508979e-01+3.39577413e-17j,  2.43649523e-02-4.47614396e-18j,\n",
       "         4.18774953e-01-2.88260113e-18j,  1.72401196e-02+9.33748609e-17j,\n",
       "         2.43649523e-02-1.04820395e-17j, -3.48348571e-01-6.13764356e-17j]])"
      ]
     },
     "execution_count": 99,
     "metadata": {},
     "output_type": "execute_result"
    }
   ],
   "source": [
    "P_op_CPHASE"
   ]
  },
  {
   "cell_type": "code",
   "execution_count": null,
   "metadata": {},
   "outputs": [],
   "source": []
  },
  {
   "cell_type": "code",
   "execution_count": null,
   "metadata": {},
   "outputs": [],
   "source": []
  },
  {
   "cell_type": "code",
   "execution_count": null,
   "metadata": {},
   "outputs": [],
   "source": []
  }
 ],
 "metadata": {
  "kernelspec": {
   "display_name": "Python 3",
   "language": "python",
   "name": "python3"
  },
  "language_info": {
   "codemirror_mode": {
    "name": "ipython",
    "version": 3
   },
   "file_extension": ".py",
   "mimetype": "text/x-python",
   "name": "python",
   "nbconvert_exporter": "python",
   "pygments_lexer": "ipython3",
   "version": "3.8.8"
  }
 },
 "nbformat": 4,
 "nbformat_minor": 2
}
